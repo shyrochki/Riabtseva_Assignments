{
  "cells": [
    {
      "cell_type": "markdown",
      "metadata": {
        "id": "view-in-github",
        "colab_type": "text"
      },
      "source": [
        "<a href=\"https://colab.research.google.com/github/shyrochki/Riabtseva_Assignments/blob/main/1_2_assignment.ipynb\" target=\"_parent\"><img src=\"https://colab.research.google.com/assets/colab-badge.svg\" alt=\"Open In Colab\"/></a>"
      ]
    },
    {
      "cell_type": "markdown",
      "metadata": {
        "id": "-89_Z_je0cfL"
      },
      "source": [
        "# Assignment 1.2\n",
        "\n",
        "> Replace all TODOs with your code. Do not change any other code."
      ]
    },
    {
      "cell_type": "markdown",
      "metadata": {
        "id": "w6E-GxTB0j4M"
      },
      "source": [
        "## Boolean, None"
      ]
    },
    {
      "cell_type": "markdown",
      "metadata": {
        "id": "iEwuf_DP0cfM"
      },
      "source": [
        "### Task 1\n",
        "\n",
        "Replace all `TODO`s with one of the logical operators to make all the expressions `True`."
      ]
    },
    {
      "cell_type": "code",
      "execution_count": 6,
      "metadata": {
        "id": "IWVOCWxx0cfM",
        "tags": [
          "task_1"
        ],
        "outputId": "cd28e838-edde-406b-80db-f50f01aba1d2",
        "colab": {
          "base_uri": "https://localhost:8080/"
        }
      },
      "outputs": [
        {
          "output_type": "stream",
          "name": "stdout",
          "text": [
            "1 True\n",
            "2 True\n",
            "3 True\n",
            "4 True\n",
            "5 True\n"
          ]
        }
      ],
      "source": [
        "print('1', 4 < 5)\n",
        "print('2', 10 != 5)\n",
        "print('3', 42 == 42)\n",
        "print('4', bool (\"42\"))\n",
        "print('5', bool ('None'))"
      ]
    },
    {
      "cell_type": "markdown",
      "metadata": {
        "id": "mZydlWw_0wzt"
      },
      "source": [
        "## String"
      ]
    },
    {
      "cell_type": "markdown",
      "metadata": {
        "id": "2z8HqsaK0cfN"
      },
      "source": [
        "### Task 2\n",
        "\n",
        "You have a string in the variable `a`. Remove all letters \"e\" from it."
      ]
    },
    {
      "cell_type": "code",
      "execution_count": 10,
      "metadata": {
        "id": "kva_9ycA0cfN",
        "tags": [
          "task_2"
        ],
        "outputId": "bc1ab2b8-1bff-4c0b-d43c-750ca71a6cb8",
        "colab": {
          "base_uri": "https://localhost:8080/"
        }
      },
      "outputs": [
        {
          "output_type": "stream",
          "name": "stdout",
          "text": [
            "res2 = Sombody said somthing to Samantha.\n"
          ]
        }
      ],
      "source": [
        "a = \"Somebody said something to Samantha.\"\n",
        "\n",
        "res = a.split(\"e\")\n",
        "res2 = \"\".join(res)\n",
        "\n",
        "print('res2 =', res2)  # Should be \"Sombody said somthing to Samantha\""
      ]
    },
    {
      "cell_type": "markdown",
      "metadata": {
        "id": "IqjW7SGS0cfN"
      },
      "source": [
        "### Task 3\n",
        "\n",
        "Make all letters of the string `a` lowercase."
      ]
    },
    {
      "cell_type": "code",
      "execution_count": 11,
      "metadata": {
        "id": "p83RQvA40cfN",
        "tags": [
          "task_3"
        ],
        "outputId": "1fb3ead1-635d-46e5-8544-19579e098bb3",
        "colab": {
          "base_uri": "https://localhost:8080/"
        }
      },
      "outputs": [
        {
          "output_type": "stream",
          "name": "stdout",
          "text": [
            "res = animals\n"
          ]
        }
      ],
      "source": [
        "a = 'Animals'\n",
        "\n",
        "res = a.lower()\n",
        "\n",
        "print('res =', res)  # Should be \"animals\""
      ]
    },
    {
      "cell_type": "markdown",
      "metadata": {
        "id": "CKS_sLMj0cfN"
      },
      "source": [
        "### Task 4\n",
        "Remove all spaces from **the beginning and end** of the string `a`."
      ]
    },
    {
      "cell_type": "code",
      "execution_count": 12,
      "metadata": {
        "id": "tXZbJ3Jn0cfN",
        "tags": [
          "task_4"
        ],
        "outputId": "97e90281-e34f-47fa-bb8f-e1146eb46267",
        "colab": {
          "base_uri": "https://localhost:8080/"
        }
      },
      "outputs": [
        {
          "output_type": "stream",
          "name": "stdout",
          "text": [
            "res = Fancy string\n"
          ]
        }
      ],
      "source": [
        "a = '   Fancy string   '\n",
        "\n",
        "res = a.strip()\n",
        "print('res =', res)  # Should be \"Fancy string\""
      ]
    },
    {
      "cell_type": "markdown",
      "metadata": {
        "id": "a1oauilt0cfN"
      },
      "source": [
        "### Task 5\n",
        "Remove all spaces from **the end** of the string `a`."
      ]
    },
    {
      "cell_type": "code",
      "execution_count": 17,
      "metadata": {
        "id": "CLgRuR0H0cfO",
        "tags": [
          "task_5"
        ],
        "outputId": "60ee4439-0114-4d2d-8a60-396acff7b6c3",
        "colab": {
          "base_uri": "https://localhost:8080/"
        }
      },
      "outputs": [
        {
          "output_type": "stream",
          "name": "stdout",
          "text": [
            "res =    Fancy string\n"
          ]
        }
      ],
      "source": [
        "a = '   Fancy string    '\n",
        "\n",
        "res = a.rstrip()\n",
        "\n",
        "print('res =', res)  # Should be \"   Fancy string\""
      ]
    }
  ],
  "metadata": {
    "colab": {
      "provenance": [],
      "toc_visible": true,
      "include_colab_link": true
    },
    "kernelspec": {
      "display_name": "venv",
      "language": "python",
      "name": "python3"
    },
    "language_info": {
      "codemirror_mode": {
        "name": "ipython",
        "version": 3
      },
      "file_extension": ".py",
      "mimetype": "text/x-python",
      "name": "python",
      "nbconvert_exporter": "python",
      "pygments_lexer": "ipython3",
      "version": "3.9.6"
    },
    "orig_nbformat": 4
  },
  "nbformat": 4,
  "nbformat_minor": 0
}