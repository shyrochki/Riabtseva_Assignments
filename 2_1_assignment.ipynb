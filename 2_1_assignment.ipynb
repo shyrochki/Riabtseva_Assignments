{
  "cells": [
    {
      "cell_type": "markdown",
      "metadata": {
        "id": "view-in-github",
        "colab_type": "text"
      },
      "source": [
        "<a href=\"https://colab.research.google.com/github/shyrochki/Riabtseva_Assignments/blob/main/2_1_assignment.ipynb\" target=\"_parent\"><img src=\"https://colab.research.google.com/assets/colab-badge.svg\" alt=\"Open In Colab\"/></a>"
      ]
    },
    {
      "cell_type": "markdown",
      "metadata": {
        "id": "-89_Z_je0cfL"
      },
      "source": [
        "# Assignment 2.1\n",
        "\n",
        "> Replace all TODOs with your code.\n",
        ">\n",
        "> Do not change any other code and do not add/remove cells!"
      ]
    },
    {
      "cell_type": "markdown",
      "source": [
        "## Logical operators"
      ],
      "metadata": {
        "id": "w6E-GxTB0j4M"
      }
    },
    {
      "cell_type": "markdown",
      "metadata": {
        "id": "iEwuf_DP0cfM"
      },
      "source": [
        "### Task 1\n",
        "\n",
        "You have two switches: `switch1` and `switch2`. `True` - switch is on, `False` - switch is off.\n",
        "\n",
        "Implement a logical expression that turns the `res` on only when either `switch1` and `switch2` is on, but not both."
      ]
    },
    {
      "cell_type": "code",
      "execution_count": 4,
      "metadata": {
        "tags": [],
        "id": "IWVOCWxx0cfM",
        "outputId": "26f7dbc9-85f5-49ce-bab3-ab0d9c648675",
        "colab": {
          "base_uri": "https://localhost:8080/"
        }
      },
      "outputs": [
        {
          "output_type": "stream",
          "name": "stdout",
          "text": [
            "res = True\n"
          ]
        }
      ],
      "source": [
        "switch1 = True\n",
        "switch2 = False\n",
        "\n",
        "res = (switch1 == True or switch2 == True)\n",
        "\n",
        "print('res =', res) # should be True"
      ]
    },
    {
      "cell_type": "markdown",
      "source": [
        "## Conditionals"
      ],
      "metadata": {
        "id": "mZydlWw_0wzt"
      }
    },
    {
      "cell_type": "markdown",
      "metadata": {
        "id": "2z8HqsaK0cfN"
      },
      "source": [
        "### Task 2\n",
        "\n",
        "Declare variable `a` with some number. If the number is divisible by 5, print 'Yes', otherwise print 'No'."
      ]
    },
    {
      "cell_type": "code",
      "execution_count": 7,
      "metadata": {
        "id": "kva_9ycA0cfN",
        "outputId": "35b3719a-f6b0-44fd-8ebf-1be6c6b79898",
        "colab": {
          "base_uri": "https://localhost:8080/"
        }
      },
      "outputs": [
        {
          "output_type": "stream",
          "name": "stdout",
          "text": [
            "Write an integer: 10\n",
            "10 is divisible by 5\n"
          ]
        }
      ],
      "source": [
        "a = int(input('Write an integer: '))\n",
        "\n",
        "if a % 5 == 0:\n",
        "    print (f'{a} is divisible by 5')\n",
        "else:\n",
        "    print (f'{a} is not divisible by 5')"
      ]
    },
    {
      "cell_type": "markdown",
      "metadata": {
        "id": "IqjW7SGS0cfN"
      },
      "source": [
        "### Task 3\n",
        "\n",
        "You have string `a`. If it is an empty string, assign to it a string 'empty'; otherwise, repeat the string five times."
      ]
    },
    {
      "cell_type": "code",
      "execution_count": 18,
      "metadata": {
        "id": "p83RQvA40cfN",
        "outputId": "ca1712d8-d416-4946-d954-7f0fd96899ad",
        "colab": {
          "base_uri": "https://localhost:8080/"
        }
      },
      "outputs": [
        {
          "output_type": "stream",
          "name": "stdout",
          "text": [
            "res = empty\n"
          ]
        }
      ],
      "source": [
        "a = ''\n",
        "\n",
        "if not a:\n",
        "  a = \"empty\"\n",
        "else:\n",
        "  a = a * 5\n",
        "\n",
        "print('res =', a)"
      ]
    },
    {
      "cell_type": "markdown",
      "source": [
        "## Loops"
      ],
      "metadata": {
        "id": "xC6HlC7Ni998"
      }
    },
    {
      "cell_type": "markdown",
      "metadata": {
        "id": "CKS_sLMj0cfN"
      },
      "source": [
        "### Task 4\n",
        "Let's calculate the sum of the first `n` terms of the [harmonic series](https://en.wikipedia.org/wiki/Harmonic_series_(mathematics))."
      ]
    },
    {
      "cell_type": "code",
      "execution_count": 21,
      "metadata": {
        "id": "tXZbJ3Jn0cfN",
        "outputId": "5097183f-eebe-4430-ec15-a419ac1ca3af",
        "colab": {
          "base_uri": "https://localhost:8080/"
        }
      },
      "outputs": [
        {
          "output_type": "stream",
          "name": "stdout",
          "text": [
            "res = 2.9289682539682538\n"
          ]
        }
      ],
      "source": [
        "n = 10\n",
        "res = 0\n",
        "\n",
        "i = 1\n",
        "\n",
        "while i <= 10:\n",
        "    res += 1 / i\n",
        "    i += 1\n",
        "\n",
        "print('res =', res) # for n=10 should be 2.928968..."
      ]
    },
    {
      "cell_type": "markdown",
      "metadata": {
        "id": "a1oauilt0cfN"
      },
      "source": [
        "### Task 5\n",
        "Let's calculate the sum of the first `n` terms of the [alternating harmonic series](https://en.wikipedia.org/wiki/Harmonic_series_(mathematics)#Alternating_harmonic_series)."
      ]
    },
    {
      "cell_type": "code",
      "execution_count": 24,
      "metadata": {
        "id": "CLgRuR0H0cfO",
        "outputId": "07078974-6a4a-472f-9281-c8f61925fcbd",
        "colab": {
          "base_uri": "https://localhost:8080/"
        }
      },
      "outputs": [
        {
          "output_type": "stream",
          "name": "stdout",
          "text": [
            "res = 0.6456349206349207\n"
          ]
        }
      ],
      "source": [
        "n = 10\n",
        "res = 0\n",
        "\n",
        "i = 1\n",
        "\n",
        "while i <= 10:\n",
        "    res += (-1)**(i-1) / i\n",
        "    i += 1\n",
        "\n",
        "print('res =', res)  # for n=10 should be 0.6456349..."
      ]
    },
    {
      "cell_type": "markdown",
      "source": [
        "### Task 6 (Optional)\n",
        "\n",
        "Write a program that prints the reverse of a given string using a while loop."
      ],
      "metadata": {
        "id": "eZ-ucgAolFCa"
      }
    },
    {
      "cell_type": "code",
      "source": [
        "string = \"some_string\"\n",
        "reverse = \"\"\n",
        "\n",
        "index = len(string) - 1\n",
        "while index >=0:\n",
        "    reverse += string[index]\n",
        "    index -= 1\n",
        "\n",
        "print(f\"Reverse = {reverse}\")  # should be \"gnirts_emos\""
      ],
      "metadata": {
        "id": "WeTfYFSdlHxF",
        "outputId": "7a6d5c25-1490-407a-f1f4-802036afb12e",
        "colab": {
          "base_uri": "https://localhost:8080/"
        }
      },
      "execution_count": 4,
      "outputs": [
        {
          "output_type": "stream",
          "name": "stdout",
          "text": [
            "Reverse = gnirts_emos\n"
          ]
        }
      ]
    },
    {
      "cell_type": "markdown",
      "source": [
        "## Match"
      ],
      "metadata": {
        "id": "2R8JdPm2ps1s"
      }
    },
    {
      "cell_type": "markdown",
      "source": [
        "### Task 7\n",
        "\n",
        "You have `shape` (such as \"square\", \"circle\", or \"triangle\"). Use a match statement to identify and classify the shape."
      ],
      "metadata": {
        "id": "kvZBp2fOputr"
      }
    },
    {
      "cell_type": "code",
      "source": [
        "shape = \"triangle\"\n",
        "\n",
        "match shape:\n",
        "    case \"square\":\n",
        "        print(\"This is a square.\")\n",
        "    case 'circle':\n",
        "        print('This is circle.')\n",
        "    case 'triangle':\n",
        "        print('This is triangle.')\n",
        "\n",
        "\n",
        "# should print \"This is a triangle\""
      ],
      "metadata": {
        "id": "tLDTs8lqpuXQ",
        "outputId": "295a3f70-1fd4-4387-81cb-6b22050ead66",
        "colab": {
          "base_uri": "https://localhost:8080/"
        }
      },
      "execution_count": 5,
      "outputs": [
        {
          "output_type": "stream",
          "name": "stdout",
          "text": [
            "This is triangle.\n"
          ]
        }
      ]
    },
    {
      "cell_type": "markdown",
      "source": [
        "### Task 8 (optional)\n",
        "\n",
        "Write a function called `process_data` that takes some data as a parameter and performs operations based on the data type using a match statement. You can use any operation of your choice.\n"
      ],
      "metadata": {
        "id": "Ih9N47crqpnM"
      }
    },
    {
      "cell_type": "code",
      "source": [
        "def process_data(data):\n",
        "    match data:\n",
        "        case int(data_int):\n",
        "            return f\"Processing number: {data_int * 2}\"\n",
        "        case float(data_float):\n",
        "            return f\"Processing number: {data_float ** 2}\"\n",
        "        case str(data_str):\n",
        "            return f\"Processing number: {data_str.lower}\"\n",
        "        case bool(data_bool):\n",
        "            return f\"Processing number: {True if data_bool else False}\"\n",
        "        case _:\n",
        "            return f\"Unrecognisable data\"\n",
        "        # TODO float, str, bool, and default case\n",
        "\n",
        "process_data(1.2)"
      ],
      "metadata": {
        "id": "_P8jKfQFqu2d",
        "outputId": "941e4647-25ec-4cea-b5a9-b1f420bbf8a7",
        "colab": {
          "base_uri": "https://localhost:8080/",
          "height": 35
        }
      },
      "execution_count": 12,
      "outputs": [
        {
          "output_type": "execute_result",
          "data": {
            "text/plain": [
              "'Processing number: 1.44'"
            ],
            "application/vnd.google.colaboratory.intrinsic+json": {
              "type": "string"
            }
          },
          "metadata": {},
          "execution_count": 12
        }
      ]
    },
    {
      "cell_type": "markdown",
      "source": [
        "### Task 9 (optional)\n",
        "\n",
        "Write a function called `process_options` that takes an `option` as a parameter and performs actions based on the match statement. You can perform any action of your choice."
      ],
      "metadata": {
        "id": "F9bw1VqusCQc"
      }
    },
    {
      "cell_type": "code",
      "source": [
        "def process_options(option):\n",
        "    match option:\n",
        "        case \"A\" | \"a\":\n",
        "            print(\"Option A selected.\")\n",
        "        case \"B\" | \"b\":\n",
        "            print(\"Option B is selected.\")\n",
        "        case \"C\" | \"c\":\n",
        "            print(\"Option C is selected.\")\n",
        "        case _:\n",
        "            print(\"Invalid input\")\n",
        "        # TODO options B, C, and default case\n",
        "\n",
        "\n",
        "process_options('c')  # should print \"Invalid input\""
      ],
      "metadata": {
        "id": "JeJ-4D9uq43v",
        "outputId": "b5a4f8f0-454a-41f4-e740-281b75018be9",
        "colab": {
          "base_uri": "https://localhost:8080/"
        }
      },
      "execution_count": 14,
      "outputs": [
        {
          "output_type": "stream",
          "name": "stdout",
          "text": [
            "option C is selected.\n"
          ]
        }
      ]
    }
  ],
  "metadata": {
    "kernelspec": {
      "display_name": "venv",
      "language": "python",
      "name": "python3"
    },
    "language_info": {
      "codemirror_mode": {
        "name": "ipython",
        "version": 3
      },
      "file_extension": ".py",
      "mimetype": "text/x-python",
      "name": "python",
      "nbconvert_exporter": "python",
      "pygments_lexer": "ipython3",
      "version": "3.9.6"
    },
    "orig_nbformat": 4,
    "colab": {
      "provenance": [],
      "include_colab_link": true
    }
  },
  "nbformat": 4,
  "nbformat_minor": 0
}