{
  "cells": [
    {
      "cell_type": "markdown",
      "metadata": {
        "id": "view-in-github",
        "colab_type": "text"
      },
      "source": [
        "<a href=\"https://colab.research.google.com/github/shyrochki/Riabtseva_Assignments/blob/main/7_1_assignment.ipynb\" target=\"_parent\"><img src=\"https://colab.research.google.com/assets/colab-badge.svg\" alt=\"Open In Colab\"/></a>"
      ]
    },
    {
      "cell_type": "markdown",
      "metadata": {
        "id": "K-xXkt9Ztf7J"
      },
      "source": [
        "# Assignment 7.1\n",
        "\n",
        "> Replace all TODOs with your code.\n",
        ">\n",
        "> Do not change any other code and do not add/remove cells!"
      ]
    },
    {
      "cell_type": "code",
      "execution_count": 1,
      "metadata": {
        "id": "sGdc6BbbALg9"
      },
      "outputs": [],
      "source": [
        "# Do not edit this cell\n",
        "\n",
        "from typing import List, Dict"
      ]
    },
    {
      "cell_type": "markdown",
      "metadata": {
        "id": "cfhcjaX0vXXa"
      },
      "source": [
        "## Clients"
      ]
    },
    {
      "cell_type": "markdown",
      "metadata": {
        "id": "Vlz14hyr6wV6"
      },
      "source": [
        "### Task 1\n",
        "\n",
        "Write a function that takes a GitHub repository name as input and uses the [GitHub Repository API](https://docs.github.com/en/rest/repos) to retrieve and return information about the specified repository, including:\n",
        "\n",
        "* Repository Name\n",
        "* Owner\n",
        "* Description\n",
        "* License (if available)\n",
        "* Creation Date\n",
        "\n",
        "Use the `requests` module for this task."
      ]
    },
    {
      "cell_type": "code",
      "execution_count": 5,
      "metadata": {
        "id": "vDYn-dRb7xIX",
        "outputId": "c79e61cc-8451-4eb2-ff1b-f7894726ca72",
        "colab": {
          "base_uri": "https://localhost:8080/"
        }
      },
      "outputs": [
        {
          "output_type": "stream",
          "name": "stdout",
          "text": [
            "{'Repository Name': 'Hello-World', 'Owner': 'octocat', 'Description': 'My first repository on GitHub!', 'License': None, 'Creation Date': '2011-01-26T19:01:12Z'}\n"
          ]
        }
      ],
      "source": [
        "import requests\n",
        "def get_repository_info(repo_name: str) -> Dict[str, str]:\n",
        "\n",
        "    response = requests.get(f\"https://api.github.com/repos/{repo_name}\")\n",
        "\n",
        "    if response.status_code == 200:\n",
        "        repo_info = response.json()\n",
        "\n",
        "        name = repo_info.get('name')\n",
        "        owner = repo_info.get('owner', {}).get('login')\n",
        "        description = repo_info.get('description')\n",
        "        license = repo_info.get('license', {})\n",
        "        creation_date = repo_info.get('created_at')\n",
        "\n",
        "        # a dictionary\n",
        "        return {\n",
        "            'Repository Name': name,\n",
        "            'Owner': owner,\n",
        "            'Description': description,\n",
        "            'License': license,\n",
        "            'Creation Date': creation_date\n",
        "        }\n",
        "    else:\n",
        "        return {}\n",
        "\n",
        "\n",
        "get_repository_info(\"octocat/Hello-World\")\n",
        "repo_info = get_repository_info(\"octocat/Hello-World\")\n",
        "print(repo_info)\n",
        "\n"
      ]
    },
    {
      "cell_type": "markdown",
      "metadata": {
        "id": "0TC34gv79VEo"
      },
      "source": [
        "### Task 2\n",
        "\n",
        "Write a function that takes a GitHub repository name and uses the [GitHub Commits API](https://docs.github.com/en/rest/commits/commits) to retrieve and return information about the five most recent commits in a selected GitHub repository, including:\n",
        "* Commit Message\n",
        "* Author\n",
        "* Date\n",
        "* Link to the commit on GitHub\n",
        "\n",
        "Use the `requests` module for this task."
      ]
    },
    {
      "cell_type": "code",
      "execution_count": 10,
      "metadata": {
        "id": "Kf2284dT-atu",
        "outputId": "a290f108-cc9f-4f26-e58a-019dfc6d0976",
        "colab": {
          "base_uri": "https://localhost:8080/"
        }
      },
      "outputs": [
        {
          "output_type": "stream",
          "name": "stdout",
          "text": [
            "{'Commit Message': 'Merge pull request #6 from Spaceghost/patch-1\\n\\nNew line at end of file.', 'Author': 'The Octocat', 'Date': '2012-03-06T23:06:50Z', 'Link': 'https://github.com/octocat/Hello-World/commit/7fd1a60b01f91b314f59955a4e4d4e80d8edf11d'}\n",
            "{'Commit Message': 'New line at end of file. --Signed off by Spaceghost', 'Author': 'Johnneylee Jack Rollins', 'Date': '2011-09-14T04:42:41Z', 'Link': 'https://github.com/octocat/Hello-World/commit/762941318ee16e59dabbacb1b4049eec22f0d303'}\n",
            "{'Commit Message': 'first commit', 'Author': 'cameronmcefee', 'Date': '2011-01-26T19:06:08Z', 'Link': 'https://github.com/octocat/Hello-World/commit/553c2077f0edc3d5dc5d17262f6aa498e69d6f8e'}\n"
          ]
        }
      ],
      "source": [
        "import requests\n",
        "def get_recent_commits(repo_name: str) -> List[Dict[str, str]]:\n",
        "\n",
        "    response = requests.get(f\"https://api.github.com/repos/{repo_name}/commits\")\n",
        "\n",
        "    recent_commits = []\n",
        "\n",
        "    if response.status_code == 200:\n",
        "        commits_data = response.json()\n",
        "        for commit_data in commits_data[:5]:\n",
        "            commit_message = commit_data.get('commit').get('message')\n",
        "            author_name = commit_data.get('commit').get('author').get('name')\n",
        "            commit_date = commit_data.get('commit').get('author').get('date')\n",
        "            commit_url = commit_data.get('html_url')\n",
        "\n",
        "            commit_info = {\n",
        "                'Commit Message': commit_message,\n",
        "                'Author': author_name,\n",
        "                'Date': commit_date,\n",
        "                'Link': commit_url\n",
        "            }\n",
        "\n",
        "            recent_commits.append(commit_info)\n",
        "\n",
        "    return recent_commits\n",
        "\n",
        "recent_commits = get_recent_commits(\"octocat/Hello-World\")\n",
        "for commit in recent_commits:\n",
        "    print(commit)\n"
      ]
    }
  ],
  "metadata": {
    "colab": {
      "provenance": [],
      "include_colab_link": true
    },
    "kernelspec": {
      "display_name": "Python 3",
      "name": "python3"
    },
    "language_info": {
      "name": "python"
    }
  },
  "nbformat": 4,
  "nbformat_minor": 0
}